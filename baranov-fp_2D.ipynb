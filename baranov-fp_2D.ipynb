{
 "cells": [
  {
   "attachments": {},
   "cell_type": "markdown",
   "metadata": {},
   "source": [
    "#### Интерактивные графики matplotlib"
   ]
  },
  {
   "cell_type": "code",
   "execution_count": null,
   "metadata": {},
   "outputs": [],
   "source": [
    "import numpy as np\n",
    "def Energy(p):\n",
    "    kkk=1.6022e-12\n",
    "    Te=5.e2\n",
    "    me=9.1094e-28\n",
    "    c=3.e10\n",
    "    e=4.8032e-10\n",
    "    bet2=kkk*Te/(me*c**2)\n",
    "    gam = np.sqrt(1.0+p**2*bet2)\n",
    "    E=(gam-1)*me*c**2/kkk/1000\n",
    "    return E"
   ]
  },
  {
   "cell_type": "code",
   "execution_count": null,
   "metadata": {},
   "outputs": [],
   "source": [
    "with open('distr.dat') as f:\n",
    "    n1 = int(f.readline())\n",
    "    n2 = int(f.readline())\n",
    "    n3 = int(f.readline())\n",
    "    print(n1,n2,n3)\n",
    "    lines = f.readlines()\n",
    "    data = []\n",
    "    for li in lines:\n",
    "        z = [float(v) for v in li.split()]\n",
    "        data += z\n",
    "print(len(data))\n",
    "print(data[0:5])"
   ]
  },
  {
   "cell_type": "code",
   "execution_count": null,
   "metadata": {},
   "outputs": [],
   "source": [
    "cs  = np.array(data[n1:n1+n2])\n",
    "cs[n2-3]"
   ]
  },
  {
   "cell_type": "code",
   "execution_count": null,
   "metadata": {},
   "outputs": [],
   "source": [
    "xp = np.array(data[0:n1])\n",
    "Eng = Energy(xp)\n",
    "csn = np.array(data[n1:n1+n2-2])\n",
    "csn[n2-3] = 1\n",
    "theta = np.arccos(csn)\n"
   ]
  },
  {
   "cell_type": "code",
   "execution_count": null,
   "metadata": {},
   "outputs": [],
   "source": [
    "dff = np.array(data[n1+n2-2:n1+n2-2 + n1*(n2-2)])\n",
    "df = np.resize(dff,(n2-2,n1))\n",
    "print(df.shape)\n",
    "print(n1*(n2-2))\n",
    "\n",
    "log_df = np.log10(df)"
   ]
  },
  {
   "cell_type": "code",
   "execution_count": null,
   "metadata": {},
   "outputs": [],
   "source": [
    "from plotly.subplots import make_subplots\n",
    "import plotly.graph_objects as go\n",
    "\n",
    "fig = make_subplots(rows=1, cols=2)\n",
    "\n",
    "fig.add_trace(\n",
    "    go.Scatter(x= xp, y=Eng),\n",
    "    row=1, col=1\n",
    ")\n",
    "\n",
    "fig.add_trace(\n",
    "    go.Scatter( y=csn),\n",
    "    row=1, col=2\n",
    ")\n",
    "\n",
    "fig.update_layout(height=400, width=900, title_text=\"Eng (Kev)\")\n",
    "fig.show()"
   ]
  },
  {
   "cell_type": "code",
   "execution_count": null,
   "metadata": {},
   "outputs": [],
   "source": [
    "xpg, csng = np.meshgrid(xp, csn)\n",
    "Engg = Energy(xpg)\n",
    "d = {'xp' : xpg.flatten(), 'csn': csng.flatten(),'Eng(KeV)': Engg.flatten(), 'df': dff}\n",
    "import pandas as pd\n",
    "df_df = pd.DataFrame(data=d)\n",
    "df_df"
   ]
  },
  {
   "cell_type": "code",
   "execution_count": null,
   "metadata": {},
   "outputs": [],
   "source": [
    "import plotly.express as px\n",
    "import plotly.graph_objects as go\n",
    "\n",
    "#df = px.data.gapminder()\n",
    "fig = px.line(df_df, x=\"Eng(KeV)\", y=\"df\",  animation_frame=\"csn\",\n",
    "           log_y=True)\n",
    "fig.add_trace(\n",
    "    go.Scatter( x = Eng, y=df[0,:],  name=f'cs= {csn[0]}' )\n",
    ")\n",
    "fig.add_trace(\n",
    "    go.Scatter( x = Eng, y=df[500,:],  name=f'cs= {csn[500]}' )\n",
    ")\n",
    "fig.add_trace(\n",
    "    go.Scatter( x = Eng, y=df[700,:],  name=f'cs= {csn[700]}' )\n",
    ")\n",
    "fig.add_trace(\n",
    "    go.Scatter( x = Eng, y=df[-1,:],  name=f'cs= {csn[-1]}' )\n",
    ")\n",
    "fig.show()"
   ]
  },
  {
   "cell_type": "code",
   "execution_count": null,
   "metadata": {},
   "outputs": [],
   "source": [
    "df_min, df_max = log_df.min(), log_df.max()\n",
    "df_min, df_max"
   ]
  },
  {
   "cell_type": "code",
   "execution_count": null,
   "metadata": {},
   "outputs": [],
   "source": [
    "import plotly.graph_objects as go\n",
    "low = df_min/3\n",
    "fig = go.Figure(data =\n",
    "    go.Contour(\n",
    "        z=log_df, x= Eng, y= csn,\n",
    "        contours=dict(\n",
    "            start= low, \n",
    "            end= df_max,\n",
    "            size= (df_max-low)/30\n",
    "        ),\n",
    "    ))\n",
    "fig.update_layout( \n",
    "      autosize=False,\n",
    "      width=800,\n",
    "      height=600,\n",
    "      title=\"Contour of log(df(e, csn))\",\n",
    "      xaxis_title=\"Energy (KeV)\",\n",
    "      yaxis_title=\"cos(theta)\",\n",
    "      legend_title=\"Legend Title\",\n",
    ")\n",
    "\n",
    "\n",
    "fig.show()"
   ]
  },
  {
   "cell_type": "code",
   "execution_count": null,
   "metadata": {},
   "outputs": [],
   "source": [
    "import plotly.graph_objects as go\n",
    "import pandas as pd\n",
    "import numpy as np\n",
    "# Read data from a csv\n",
    "\n",
    "log_df[(log_df < -25.0)] = -25.0\n",
    "\n",
    "fig = go.Figure(data=[go.Surface(z=log_df, x=Eng, y=theta)])\n",
    "fig.update_layout( title='log df(eng, theta)', \n",
    "    scene = dict(xaxis_title='Energy (KeV)',\n",
    "                 yaxis_title='cos(theta)',\n",
    "                 zaxis_title='log(df)'),\n",
    "    autosize=False,\n",
    "    width=900, height=700,\n",
    "    margin=dict(l=65, r=50, b=65, t=90))\n",
    "\n",
    "fig.show()"
   ]
  },
  {
   "cell_type": "code",
   "execution_count": null,
   "metadata": {},
   "outputs": [],
   "source": [
    "x_max = max(xp)\n",
    "x_max"
   ]
  },
  {
   "cell_type": "code",
   "execution_count": null,
   "metadata": {},
   "outputs": [],
   "source": [
    "from scipy.interpolate import RegularGridInterpolator\n",
    "interp_df = RegularGridInterpolator((theta, xp), log_df, bounds_error=False, fill_value=None)"
   ]
  },
  {
   "cell_type": "code",
   "execution_count": null,
   "metadata": {},
   "outputs": [],
   "source": [
    "def cart2polNP(xy):\n",
    "    x, y = xy\n",
    "    rho = np.sqrt(x**2 + y**2)\n",
    "    phi = np.arctan2(y, x)\n",
    "    return(phi, rho)\n",
    "\n",
    "x = np.linspace(-x_max, x_max, 1200)\n",
    "y = np.linspace(0, x_max, 600)\n",
    "xg, yg= np.meshgrid(x, y)\n",
    "idf = interp_df(cart2polNP((xg, yg)))"
   ]
  },
  {
   "cell_type": "code",
   "execution_count": null,
   "metadata": {},
   "outputs": [],
   "source": [
    "df_max-df_min"
   ]
  },
  {
   "cell_type": "code",
   "execution_count": null,
   "metadata": {},
   "outputs": [],
   "source": [
    "import plotly.graph_objects as go\n",
    "\n",
    "fig = go.Figure(data =\n",
    "    go.Contour(\n",
    "        z=idf, x= x, y= y,\n",
    "        contours=dict(\n",
    "            start= df_min/2, \n",
    "            end= df_max,\n",
    "            size= (df_max-df_min/2)/20\n",
    "        ),\n",
    "    ))\n",
    "fig.update_layout( \n",
    "      autosize=False,\n",
    "      width=800,\n",
    "      height=600,\n",
    ")\n",
    "fig.show()"
   ]
  },
  {
   "cell_type": "code",
   "execution_count": null,
   "metadata": {},
   "outputs": [],
   "source": [
    "\n",
    "e_x = np.sqrt(np.abs(xp))*np.sign(xp)\n",
    "R, P = np.meshgrid(e_x, th) \n",
    "X, Y = R*np.cos(P), R*np.sin(P)\n",
    "\n",
    "df_cut = df.copy()\n",
    "df_cut[(df_cut <df_min/5)] = df_min/5"
   ]
  },
  {
   "cell_type": "code",
   "execution_count": null,
   "metadata": {},
   "outputs": [],
   "source": [
    "import plotly.graph_objects as go\n",
    "from plotly.subplots import make_subplots\n",
    "\n",
    "\n",
    "fig = make_subplots(rows=1, cols=1,\n",
    "                    specs=[[{'is_3d': True}]],\n",
    "                    subplot_titles=['df'],\n",
    "                    )\n",
    "\n",
    "#scene1=dict(aspectratio=dict(x=1, y=2, z=0.5),\n",
    "#                camera_eye=dict(x=-1.00, y=1.0, z=0.2))\n",
    "\n",
    "fig.add_trace(go.Surface(x=X, y=Y, z=df_cut, colorbar_x=-0.07), 1, 1)\n",
    "#fig.add_trace(go.Surface(x=X, y=Y, z=Si), 1, 2)\n",
    "fig.update_scenes( \n",
    "                aspectratio=dict(x=2, y=1, z=0.5),\n",
    "                camera_eye=dict(x=-2.57, y=1.36, z=0.58), row=1, col=1)\n",
    "\n",
    "\n",
    "fig.update_layout( title_text=\"df\",\n",
    "      autosize=False,\n",
    "      width=1000,\n",
    "      height=900,\n",
    "  \n",
    ")\n",
    "fig.show()\n"
   ]
  }
 ],
 "metadata": {
  "kernelspec": {
   "display_name": "Python 3 (ipykernel)",
   "language": "python",
   "name": "python3"
  },
  "language_info": {
   "codemirror_mode": {
    "name": "ipython",
    "version": 3
   },
   "file_extension": ".py",
   "mimetype": "text/x-python",
   "name": "python",
   "nbconvert_exporter": "python",
   "pygments_lexer": "ipython3",
   "version": "3.11.2"
  }
 },
 "nbformat": 4,
 "nbformat_minor": 4
}
